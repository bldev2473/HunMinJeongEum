{
  "nbformat": 4,
  "nbformat_minor": 0,
  "metadata": {
    "colab": {
      "name": "HunMinJeongEum.ipynb",
      "provenance": [],
      "authorship_tag": "ABX9TyOurmpMKoQ4BEM8dtPUKwkk",
      "include_colab_link": true
    },
    "kernelspec": {
      "name": "python3",
      "display_name": "Python 3"
    }
  },
  "cells": [
    {
      "cell_type": "markdown",
      "metadata": {
        "id": "view-in-github",
        "colab_type": "text"
      },
      "source": [
        "<a href=\"https://colab.research.google.com/github/bldev2473/HunMinJeongEum/blob/main/HunMinJeongEum.ipynb\" target=\"_parent\"><img src=\"https://colab.research.google.com/assets/colab-badge.svg\" alt=\"Open In Colab\"/></a>"
      ]
    },
    {
      "cell_type": "code",
      "metadata": {
        "id": "zchXzOUTTzZL"
      },
      "source": [
        "enc = '한글'.encode('utf-8')"
      ],
      "execution_count": null,
      "outputs": []
    },
    {
      "cell_type": "code",
      "metadata": {
        "colab": {
          "base_uri": "https://localhost:8080/"
        },
        "id": "6AAu4HtsYTHp",
        "outputId": "c3abe846-61c6-4617-d129-ff69584cf668"
      },
      "source": [
        "print(enc)"
      ],
      "execution_count": null,
      "outputs": [
        {
          "output_type": "stream",
          "text": [
            "b'\\xed\\x95\\x9c\\xea\\xb8\\x80'\n"
          ],
          "name": "stdout"
        }
      ]
    },
    {
      "cell_type": "code",
      "metadata": {
        "id": "mCsk-C6FYogy"
      },
      "source": [
        "dec = enc.decode('utf-8')"
      ],
      "execution_count": null,
      "outputs": []
    },
    {
      "cell_type": "code",
      "metadata": {
        "colab": {
          "base_uri": "https://localhost:8080/"
        },
        "id": "eyBPLen7Ytin",
        "outputId": "b0092b3b-1c48-40a2-e7a8-20bb44059f2f"
      },
      "source": [
        "print(dec)"
      ],
      "execution_count": null,
      "outputs": [
        {
          "output_type": "stream",
          "text": [
            "한글\n"
          ],
          "name": "stdout"
        }
      ]
    },
    {
      "cell_type": "code",
      "metadata": {
        "colab": {
          "base_uri": "https://localhost:8080/"
        },
        "id": "A2sfgwpHfKiS",
        "outputId": "bd96465e-fa54-47a5-f22e-5e61bdd1531c"
      },
      "source": [
        "print('ㅎ'.encode('utf-8'))"
      ],
      "execution_count": null,
      "outputs": [
        {
          "output_type": "stream",
          "text": [
            "b'\\xe3\\x85\\x8e'\n"
          ],
          "name": "stdout"
        }
      ]
    },
    {
      "cell_type": "code",
      "metadata": {
        "id": "RAGyxWiqgrhM"
      },
      "source": [
        "cho_sung = ['ㄱ', 'ㄲ', 'ㄴ', 'ㄷ', 'ㄸ', 'ㄹ', 'ㅁ', 'ㅂ', 'ㅃ', 'ㅅ', 'ㅆ', 'ㅇ', 'ㅈ', 'ㅉ', 'ㅊ', 'ㅋ', 'ㅌ', 'ㅍ', 'ㅎ']"
      ],
      "execution_count": null,
      "outputs": []
    },
    {
      "cell_type": "code",
      "metadata": {
        "colab": {
          "base_uri": "https://localhost:8080/"
        },
        "id": "bXazFnVdg9L3",
        "outputId": "b98d039a-9ef4-489f-c388-08784b826170"
      },
      "source": [
        "print(len(cho_sung))"
      ],
      "execution_count": null,
      "outputs": [
        {
          "output_type": "stream",
          "text": [
            "18\n"
          ],
          "name": "stdout"
        }
      ]
    },
    {
      "cell_type": "code",
      "metadata": {
        "id": "St6uALoahCIp"
      },
      "source": [
        "joong_sung = ['ㅏ', 'ㅐ', 'ㅑ', 'ㅒ', 'ㅓ', 'ㅔ', 'ㅕ', 'ㅖ', 'ㅗ', 'ㅘ', 'ㅙ', 'ㅚ', 'ㅛ', 'ㅜ', 'ㅝ', 'ㅞ', 'ㅟ', 'ㅠ', 'ㅡ', 'ㅢ', 'ㅣ']"
      ],
      "execution_count": null,
      "outputs": []
    },
    {
      "cell_type": "code",
      "metadata": {
        "colab": {
          "base_uri": "https://localhost:8080/"
        },
        "id": "oEd9FZR2hRH9",
        "outputId": "1fd9caa5-15f4-4ecf-9f93-ad644f34b360"
      },
      "source": [
        "print(len(joong_sung))"
      ],
      "execution_count": null,
      "outputs": [
        {
          "output_type": "stream",
          "text": [
            "20\n"
          ],
          "name": "stdout"
        }
      ]
    },
    {
      "cell_type": "code",
      "metadata": {
        "id": "AeEP1ltwha4l"
      },
      "source": [
        "jong_sung = ['ㄱ', 'ㄲ', 'ㄳ', 'ㄴ', 'ㄵ', 'ㄶ', 'ㄷ', 'ㄹ', 'ㄺ', 'ㄻ', 'ㄼ', 'ㄽ', 'ㄾ', 'ㄿ', 'ㅀ', 'ㅁ', 'ㅂ', 'ㅄ', 'ㅅ', 'ㅇ', 'ㅈ', 'ㅈ', 'ㅊ', 'ㅋ', 'ㅌ', 'ㅍ', 'ㅎ']"
      ],
      "execution_count": null,
      "outputs": []
    },
    {
      "cell_type": "code",
      "metadata": {
        "colab": {
          "base_uri": "https://localhost:8080/"
        },
        "id": "VT28vPL7h2ZV",
        "outputId": "b6e158ea-10ab-4a57-a062-42b9836ace55"
      },
      "source": [
        "print(len(jong_sung))"
      ],
      "execution_count": null,
      "outputs": [
        {
          "output_type": "stream",
          "text": [
            "27\n"
          ],
          "name": "stdout"
        }
      ]
    },
    {
      "cell_type": "code",
      "metadata": {
        "id": "j6u3BsmyY3FT"
      },
      "source": [
        "decoded_char = ['ㅎ', 'ㅏ', 'ㄴ', 'ㄱ', 'ㅡ', 'ㄹ']"
      ],
      "execution_count": null,
      "outputs": []
    },
    {
      "cell_type": "code",
      "metadata": {
        "id": "5nOAaqTzZUok"
      },
      "source": [
        "encoded_char = [char.encode('utf-8') for char in decoded_char]"
      ],
      "execution_count": null,
      "outputs": []
    },
    {
      "cell_type": "code",
      "metadata": {
        "colab": {
          "base_uri": "https://localhost:8080/"
        },
        "id": "sGH4rj_tZdK9",
        "outputId": "99ab8fed-a18f-4844-fc6c-819939427fab"
      },
      "source": [
        "print(encoded_char)"
      ],
      "execution_count": null,
      "outputs": [
        {
          "output_type": "stream",
          "text": [
            "[b'\\xe3\\x85\\x8e', b'\\xe3\\x85\\x8f', b'\\xe3\\x84\\xb4', b'\\xe3\\x84\\xb1', b'\\xe3\\x85\\xa1', b'\\xe3\\x84\\xb9']\n"
          ],
          "name": "stdout"
        }
      ]
    },
    {
      "cell_type": "code",
      "metadata": {
        "colab": {
          "base_uri": "https://localhost:8080/",
          "height": 232
        },
        "id": "1YHYVzIYZeRn",
        "outputId": "64d68dbb-da0b-4777-ee9b-d40f3f805729"
      },
      "source": [
        "from collections import deque\n",
        "\n",
        "dq = deque()\n",
        "result = ''\n",
        "for char in decoded_char:\n",
        "  dq.append(char)\n",
        "\n",
        "  if len(dq) == 3:\n",
        "    temp = 44032 + (cho_sung.index(dq.popleft()) * 588) + (joong_sung.index(dq.popleft()) * 28) + jong_sung.index(dq.popleft()) + 1\n",
        "    result += chr(temp)\n",
        "    dq.clear()\n",
        "\n",
        "print(result)"
      ],
      "execution_count": 1,
      "outputs": [
        {
          "output_type": "error",
          "ename": "NameError",
          "evalue": "ignored",
          "traceback": [
            "\u001b[0;31m---------------------------------------------------------------------------\u001b[0m",
            "\u001b[0;31mNameError\u001b[0m                                 Traceback (most recent call last)",
            "\u001b[0;32m<ipython-input-1-5f47d330a288>\u001b[0m in \u001b[0;36m<module>\u001b[0;34m()\u001b[0m\n\u001b[1;32m      3\u001b[0m \u001b[0mdq\u001b[0m \u001b[0;34m=\u001b[0m \u001b[0mdeque\u001b[0m\u001b[0;34m(\u001b[0m\u001b[0;34m)\u001b[0m\u001b[0;34m\u001b[0m\u001b[0;34m\u001b[0m\u001b[0m\n\u001b[1;32m      4\u001b[0m \u001b[0mresult\u001b[0m \u001b[0;34m=\u001b[0m \u001b[0;34m''\u001b[0m\u001b[0;34m\u001b[0m\u001b[0;34m\u001b[0m\u001b[0m\n\u001b[0;32m----> 5\u001b[0;31m \u001b[0;32mfor\u001b[0m \u001b[0mchar\u001b[0m \u001b[0;32min\u001b[0m \u001b[0mdecoded_char\u001b[0m\u001b[0;34m:\u001b[0m\u001b[0;34m\u001b[0m\u001b[0;34m\u001b[0m\u001b[0m\n\u001b[0m\u001b[1;32m      6\u001b[0m   \u001b[0mdq\u001b[0m\u001b[0;34m.\u001b[0m\u001b[0mappend\u001b[0m\u001b[0;34m(\u001b[0m\u001b[0mchar\u001b[0m\u001b[0;34m)\u001b[0m\u001b[0;34m\u001b[0m\u001b[0;34m\u001b[0m\u001b[0m\n\u001b[1;32m      7\u001b[0m \u001b[0;34m\u001b[0m\u001b[0m\n",
            "\u001b[0;31mNameError\u001b[0m: name 'decoded_char' is not defined"
          ]
        }
      ]
    },
    {
      "cell_type": "code",
      "metadata": {
        "id": "8uI0qm_Jun9T"
      },
      "source": [
        "from collections import deque\n",
        "\n",
        "cho_sung = ['ㄱ', 'ㄲ', 'ㄴ', 'ㄷ', 'ㄸ', 'ㄹ', 'ㅁ', 'ㅂ', 'ㅃ', 'ㅅ', 'ㅆ', 'ㅇ', 'ㅈ', 'ㅉ', 'ㅊ', 'ㅋ', 'ㅌ', 'ㅍ', 'ㅎ']\n",
        "joong_sung = ['ㅏ', 'ㅐ', 'ㅑ', 'ㅒ', 'ㅓ', 'ㅔ', 'ㅕ', 'ㅖ', 'ㅗ', 'ㅘ', 'ㅙ', 'ㅚ', 'ㅛ', 'ㅜ', 'ㅝ', 'ㅞ', 'ㅟ', 'ㅠ', 'ㅡ', 'ㅢ', 'ㅣ']\n",
        "jong_sung = [0, 'ㄱ', 'ㄲ', 'ㄳ', 'ㄴ', 'ㄵ', 'ㄶ', 'ㄷ', 'ㄹ', 'ㄺ', 'ㄻ', 'ㄼ', 'ㄽ', 'ㄾ', 'ㄿ', 'ㅀ', 'ㅁ', 'ㅂ', 'ㅄ', 'ㅅ', 'ㅆ', 'ㅇ', 'ㅈ', 'ㅊ', 'ㅋ', 'ㅌ', 'ㅍ', 'ㅎ']\n",
        "\n",
        "def solution(encoded_char_list):\n",
        "  dq = deque()\n",
        "  result = ''\n",
        "  for char in decoded_char:\n",
        "    dq.append(char)\n",
        "\n",
        "    if len(dq) == 4:\n",
        "      print('dq', dq)\n",
        "      cho = dq.popleft()\n",
        "      joong = dq.popleft()\n",
        "      jong = dq.popleft()\n",
        "      temp = combine(cho, joong, jong)\n",
        "      print('temp', chr(temp))\n",
        "      last = dq.popleft()\n",
        "      if last in joong_sung:\n",
        "        temp = combine(cho, joong)\n",
        "        result += chr(temp)\n",
        "        temp = combine(jong, last)\n",
        "        dq.append(jong)\n",
        "      dq.append(last)\n",
        "      result += chr(temp)\n",
        "      print(result)\n",
        "\n",
        "    else:\n",
        "      try:\n",
        "        print('dq', dq)\n",
        "      except IndexError as e:\n",
        "        print('e', e)\n",
        "\n",
        "def combine(cho, joong, jong=0):\n",
        "  return 44032 + (cho_sung.index(cho) * 588) + (joong_sung.index(joong) * 28) + jong_sung.index(jong)"
      ],
      "execution_count": 83,
      "outputs": []
    },
    {
      "cell_type": "code",
      "metadata": {
        "id": "jfP7u5hte2_V",
        "colab": {
          "base_uri": "https://localhost:8080/"
        },
        "outputId": "234cf5ac-fd18-414e-a48b-55249cd265ce"
      },
      "source": [
        "decoded_char = ['ㅎ', 'ㅜ', 'ㄴ', 'ㅁ', 'ㅣ', 'ㄴ', 'ㅈ', 'ㅓ', 'ㅇ', 'ㅇ', 'ㅡ', 'ㅁ']\n",
        "solution(decoded_char)"
      ],
      "execution_count": 84,
      "outputs": [
        {
          "output_type": "stream",
          "text": [
            "dq deque(['ㅎ'])\n",
            "dq deque(['ㅎ', 'ㅜ'])\n",
            "dq deque(['ㅎ', 'ㅜ', 'ㄴ'])\n",
            "dq deque(['ㅎ', 'ㅜ', 'ㄴ', 'ㅁ'])\n",
            "temp 훈\n",
            "훈\n",
            "dq deque(['ㅁ', 'ㅣ'])\n",
            "dq deque(['ㅁ', 'ㅣ', 'ㄴ'])\n",
            "dq deque(['ㅁ', 'ㅣ', 'ㄴ', 'ㅈ'])\n",
            "temp 민\n",
            "훈민\n",
            "dq deque(['ㅈ', 'ㅓ'])\n",
            "dq deque(['ㅈ', 'ㅓ', 'ㅇ'])\n",
            "dq deque(['ㅈ', 'ㅓ', 'ㅇ', 'ㅇ'])\n",
            "temp 정\n",
            "훈민정\n",
            "dq deque(['ㅇ', 'ㅡ'])\n",
            "dq deque(['ㅇ', 'ㅡ', 'ㅁ'])\n"
          ],
          "name": "stdout"
        }
      ]
    },
    {
      "cell_type": "code",
      "metadata": {
        "colab": {
          "base_uri": "https://localhost:8080/"
        },
        "id": "_OnHQp1dvF3g",
        "outputId": "1762f66f-adf9-4603-b8e0-971d0b5318cf"
      },
      "source": [
        "decoded_char = ['ㅇ', 'ㅠ', 'ㄴ', 'ㅣ', 'ㅋ', 'ㅗ', 'ㄷ', 'ㅡ']\n",
        "solution(decoded_char)"
      ],
      "execution_count": 85,
      "outputs": [
        {
          "output_type": "stream",
          "text": [
            "dq deque(['ㅇ'])\n",
            "dq deque(['ㅇ', 'ㅠ'])\n",
            "dq deque(['ㅇ', 'ㅠ', 'ㄴ'])\n",
            "dq deque(['ㅇ', 'ㅠ', 'ㄴ', 'ㅣ'])\n",
            "temp 윤\n",
            "유니\n",
            "dq deque(['ㄴ', 'ㅣ', 'ㅋ'])\n",
            "dq deque(['ㄴ', 'ㅣ', 'ㅋ', 'ㅗ'])\n",
            "temp 닠\n",
            "유니니코\n",
            "dq deque(['ㅋ', 'ㅗ', 'ㄷ'])\n",
            "dq deque(['ㅋ', 'ㅗ', 'ㄷ', 'ㅡ'])\n",
            "temp 콛\n",
            "유니니코코드\n"
          ],
          "name": "stdout"
        }
      ]
    },
    {
      "cell_type": "code",
      "metadata": {
        "id": "xon3UpIlv2Wa"
      },
      "source": [
        ""
      ],
      "execution_count": null,
      "outputs": []
    }
  ]
}