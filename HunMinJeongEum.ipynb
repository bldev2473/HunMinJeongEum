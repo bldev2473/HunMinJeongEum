{
  "nbformat": 4,
  "nbformat_minor": 0,
  "metadata": {
    "colab": {
      "name": "HunMinJeongEum.ipynb",
      "provenance": [],
      "authorship_tag": "ABX9TyM0nEbr5FyasQwPcScIVhOR",
      "include_colab_link": true
    },
    "kernelspec": {
      "name": "python3",
      "display_name": "Python 3"
    }
  },
  "cells": [
    {
      "cell_type": "markdown",
      "metadata": {
        "id": "view-in-github",
        "colab_type": "text"
      },
      "source": [
        "<a href=\"https://colab.research.google.com/github/bldev2473/HunMinJeongEum/blob/main/HunMinJeongEum.ipynb\" target=\"_parent\"><img src=\"https://colab.research.google.com/assets/colab-badge.svg\" alt=\"Open In Colab\"/></a>"
      ]
    },
    {
      "cell_type": "code",
      "metadata": {
        "id": "zchXzOUTTzZL"
      },
      "source": [
        "enc = '한글'.encode('utf-8')"
      ],
      "execution_count": 9,
      "outputs": []
    },
    {
      "cell_type": "code",
      "metadata": {
        "colab": {
          "base_uri": "https://localhost:8080/"
        },
        "id": "6AAu4HtsYTHp",
        "outputId": "c3abe846-61c6-4617-d129-ff69584cf668"
      },
      "source": [
        "print(enc)"
      ],
      "execution_count": 10,
      "outputs": [
        {
          "output_type": "stream",
          "text": [
            "b'\\xed\\x95\\x9c\\xea\\xb8\\x80'\n"
          ],
          "name": "stdout"
        }
      ]
    },
    {
      "cell_type": "code",
      "metadata": {
        "id": "mCsk-C6FYogy"
      },
      "source": [
        "dec = enc.decode('utf-8')"
      ],
      "execution_count": 11,
      "outputs": []
    },
    {
      "cell_type": "code",
      "metadata": {
        "colab": {
          "base_uri": "https://localhost:8080/"
        },
        "id": "eyBPLen7Ytin",
        "outputId": "b0092b3b-1c48-40a2-e7a8-20bb44059f2f"
      },
      "source": [
        "print(dec)"
      ],
      "execution_count": 12,
      "outputs": [
        {
          "output_type": "stream",
          "text": [
            "한글\n"
          ],
          "name": "stdout"
        }
      ]
    },
    {
      "cell_type": "code",
      "metadata": {
        "colab": {
          "base_uri": "https://localhost:8080/"
        },
        "id": "A2sfgwpHfKiS",
        "outputId": "bd96465e-fa54-47a5-f22e-5e61bdd1531c"
      },
      "source": [
        "print('ㅎ'.encode('utf-8'))"
      ],
      "execution_count": 24,
      "outputs": [
        {
          "output_type": "stream",
          "text": [
            "b'\\xe3\\x85\\x8e'\n"
          ],
          "name": "stdout"
        }
      ]
    },
    {
      "cell_type": "code",
      "metadata": {
        "id": "RAGyxWiqgrhM"
      },
      "source": [
        "cho_sung = ['ㄱ', 'ㄲ', 'ㄴ', 'ㄷ', 'ㄸ', 'ㄹ', 'ㅁ', 'ㅂ', 'ㅃ', 'ㅅ', 'ㅆ', 'ㅇ', 'ㅈ', 'ㅉ', 'ㅊ', 'ㅋ', 'ㅌ', 'ㅍ', 'ㅎ']"
      ],
      "execution_count": 60,
      "outputs": []
    },
    {
      "cell_type": "code",
      "metadata": {
        "colab": {
          "base_uri": "https://localhost:8080/"
        },
        "id": "bXazFnVdg9L3",
        "outputId": "b98d039a-9ef4-489f-c388-08784b826170"
      },
      "source": [
        "print(len(cho_sung))"
      ],
      "execution_count": 49,
      "outputs": [
        {
          "output_type": "stream",
          "text": [
            "18\n"
          ],
          "name": "stdout"
        }
      ]
    },
    {
      "cell_type": "code",
      "metadata": {
        "id": "St6uALoahCIp"
      },
      "source": [
        "joong_sung = ['ㅏ', 'ㅐ', 'ㅑ', 'ㅒ', 'ㅓ', 'ㅔ', 'ㅕ', 'ㅖ', 'ㅗ', 'ㅘ', 'ㅙ', 'ㅚ', 'ㅛ', 'ㅜ', 'ㅝ', 'ㅞ', 'ㅟ', 'ㅠ', 'ㅡ', 'ㅢ', 'ㅣ']"
      ],
      "execution_count": 65,
      "outputs": []
    },
    {
      "cell_type": "code",
      "metadata": {
        "colab": {
          "base_uri": "https://localhost:8080/"
        },
        "id": "oEd9FZR2hRH9",
        "outputId": "1fd9caa5-15f4-4ecf-9f93-ad644f34b360"
      },
      "source": [
        "print(len(joong_sung))"
      ],
      "execution_count": 51,
      "outputs": [
        {
          "output_type": "stream",
          "text": [
            "20\n"
          ],
          "name": "stdout"
        }
      ]
    },
    {
      "cell_type": "code",
      "metadata": {
        "id": "AeEP1ltwha4l"
      },
      "source": [
        "jong_sung = ['ㄱ', 'ㄲ', 'ㄳ', 'ㄴ', 'ㄵ', 'ㄶ', 'ㄷ', 'ㄹ', 'ㄺ', 'ㄻ', 'ㄼ', 'ㄽ', 'ㄾ', 'ㄿ', 'ㅀ', 'ㅁ', 'ㅂ', 'ㅄ', 'ㅅ', 'ㅇ', 'ㅈ', 'ㅈ', 'ㅊ', 'ㅋ', 'ㅌ', 'ㅍ', 'ㅎ']"
      ],
      "execution_count": 52,
      "outputs": []
    },
    {
      "cell_type": "code",
      "metadata": {
        "colab": {
          "base_uri": "https://localhost:8080/"
        },
        "id": "VT28vPL7h2ZV",
        "outputId": "b6e158ea-10ab-4a57-a062-42b9836ace55"
      },
      "source": [
        "print(len(jong_sung))"
      ],
      "execution_count": 53,
      "outputs": [
        {
          "output_type": "stream",
          "text": [
            "27\n"
          ],
          "name": "stdout"
        }
      ]
    },
    {
      "cell_type": "code",
      "metadata": {
        "id": "j6u3BsmyY3FT"
      },
      "source": [
        "decoded_char = ['ㅎ', 'ㅏ', 'ㄴ', 'ㄱ', 'ㅡ', 'ㄹ']"
      ],
      "execution_count": 54,
      "outputs": []
    },
    {
      "cell_type": "code",
      "metadata": {
        "id": "5nOAaqTzZUok"
      },
      "source": [
        "encoded_char = [char.encode('utf-8') for char in decoded_char]"
      ],
      "execution_count": 55,
      "outputs": []
    },
    {
      "cell_type": "code",
      "metadata": {
        "colab": {
          "base_uri": "https://localhost:8080/"
        },
        "id": "sGH4rj_tZdK9",
        "outputId": "99ab8fed-a18f-4844-fc6c-819939427fab"
      },
      "source": [
        "print(encoded_char)"
      ],
      "execution_count": 56,
      "outputs": [
        {
          "output_type": "stream",
          "text": [
            "[b'\\xe3\\x85\\x8e', b'\\xe3\\x85\\x8f', b'\\xe3\\x84\\xb4', b'\\xe3\\x84\\xb1', b'\\xe3\\x85\\xa1', b'\\xe3\\x84\\xb9']\n"
          ],
          "name": "stdout"
        }
      ]
    },
    {
      "cell_type": "code",
      "metadata": {
        "colab": {
          "base_uri": "https://localhost:8080/"
        },
        "id": "1YHYVzIYZeRn",
        "outputId": "c01b4a43-32c5-477e-d1da-f10fe4630ee7"
      },
      "source": [
        "from collections import deque\n",
        "\n",
        "dq = deque()\n",
        "result = ''\n",
        "for char in decoded_char:\n",
        "  dq.append(char)\n",
        "\n",
        "  if len(dq) == 3:\n",
        "    temp = 44032 + (cho_sung.index(dq.popleft()) * 588) + (joong_sung.index(dq.popleft()) * 28) + jong_sung.index(dq.popleft()) + 1\n",
        "    result += chr(temp)\n",
        "    dq.clear()\n",
        "\n",
        "print(result)"
      ],
      "execution_count": 66,
      "outputs": [
        {
          "output_type": "stream",
          "text": [
            "한글\n"
          ],
          "name": "stdout"
        }
      ]
    },
    {
      "cell_type": "code",
      "metadata": {
        "id": "jfP7u5hte2_V"
      },
      "source": [
        ""
      ],
      "execution_count": null,
      "outputs": []
    }
  ]
}